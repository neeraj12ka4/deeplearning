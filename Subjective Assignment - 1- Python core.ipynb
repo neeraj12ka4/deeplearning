{
 "cells": [
  {
   "cell_type": "markdown",
   "metadata": {},
   "source": [
    "Q1. Write a Python program to get the string from the given string where\n",
    "all the occurrence of its first char has been changed to '$,' except first\n",
    "char itself?\n",
    "\n",
    "    Sample String: 'prospect'\n",
    "    Expected Result : 'pros$ect'\n"
   ]
  },
  {
   "cell_type": "code",
   "execution_count": 111,
   "metadata": {},
   "outputs": [
    {
     "data": {
      "text/plain": [
       "'retrosp$ctiv$ t$sting t$st'"
      ]
     },
     "execution_count": 111,
     "metadata": {},
     "output_type": "execute_result"
    }
   ],
   "source": [
    "testStr = 'retrospective testing test'\n",
    "# replaceChr = 't'\n",
    "replaceChr = 'e'\n",
    "replaceWith = '$'\n",
    "t = testStr[0:testStr.find(replaceChr)+1] + testStr[testStr.find(replaceChr)+1:].replace(replaceChr,replaceWith)\n",
    "t"
   ]
  },
  {
   "cell_type": "markdown",
   "metadata": {},
   "source": [
    "Q3. Write the Python program to add 'ing' at the end of the given string\n",
    "(length of the string should be at least 3). If given string already ends\n",
    "with 'ing,' then add 'ly' instead. If string length of the given string is less\n",
    "than 3, leave it unchanged?\n",
    "\n",
    "\n",
    "    Sample string: ' abc '\n",
    "    Expected result: ' abcing '\n",
    "    Sample string: ' string '\n",
    "    Expected result: ' stringly '\n"
   ]
  },
  {
   "cell_type": "code",
   "execution_count": 28,
   "metadata": {},
   "outputs": [
    {
     "name": "stdout",
     "output_type": "stream",
     "text": [
      "te\n",
      "testing\n",
      "testingly\n"
     ]
    }
   ],
   "source": [
    "testStr = ['te','test','testing']\n",
    "\n",
    "for i in testStr :\n",
    "    if len(i) < 3 :\n",
    "        print(i)\n",
    "    elif i.endswith('ing') :\n",
    "        print(i+'ly')\n",
    "    else :\n",
    "        print(i+'ing')\n",
    "\n",
    "    \n",
    "\n"
   ]
  },
  {
   "cell_type": "markdown",
   "metadata": {},
   "source": [
    "Q4. Write the Python program to find the first appearance of the\n",
    "substring 'not' and 'poor' from the given string, if 'not' follows the 'poor',\n",
    "replace the whole 'not'...' poor' substring with 'good'.Return the resulting\n",
    "string.\n",
    "\n",
    "    Sample string: 'The lyrics are not that poor!'\n",
    "    'The lyrics are poor!'\n",
    "    Expected Result: 'The lyrics are good!'\n",
    "    'The lyrics are poor!'"
   ]
  },
  {
   "cell_type": "code",
   "execution_count": 50,
   "metadata": {},
   "outputs": [
    {
     "name": "stdout",
     "output_type": "stream",
     "text": [
      "14\n",
      "The lyrics are good!\n",
      "The lyrics are very poor\n"
     ]
    }
   ],
   "source": [
    "testStrLst = ['The lyrics are not that very poor!','The lyrics are very poor']\n",
    "\n",
    "# print(testStr[testStr.find('not'):].find('poor'))\n",
    "\n",
    "for testStr in testStrLst :\n",
    "    if testStr[testStr.find('not'):].find('poor') != -1 :\n",
    "        print (testStr[:testStr.find('not')-1]+' good'+testStr[testStr.find('not'):][testStr[testStr.find('not'):].find('poor')+4:])\n",
    "    else :\n",
    "        print(testStr)\n"
   ]
  },
  {
   "cell_type": "markdown",
   "metadata": {},
   "source": [
    "Q5. Write the Python program to remove the characters which have odd\n",
    "index values of a given string."
   ]
  },
  {
   "cell_type": "code",
   "execution_count": 72,
   "metadata": {},
   "outputs": [
    {
     "data": {
      "text/plain": [
       "'ti snea ig hua'"
      ]
     },
     "execution_count": 72,
     "metadata": {},
     "output_type": "execute_result"
    }
   ],
   "source": [
    "testStr = 'this is neeraj singh chauhan'\n",
    "finalStr = ''\n",
    "for i in range(len(testStr)):\n",
    "    if i%2 == 0 :\n",
    "#         print(i)\n",
    "        finalStr+=(testStr[i])\n",
    "finalStr"
   ]
  },
  {
   "cell_type": "markdown",
   "metadata": {},
   "source": [
    "Q6. Write the python program to print the following floating numbers up\n",
    "to 2 decimal places?"
   ]
  },
  {
   "cell_type": "code",
   "execution_count": 81,
   "metadata": {},
   "outputs": [
    {
     "name": "stdout",
     "output_type": "stream",
     "text": [
      "2.12\n",
      "2.12\n"
     ]
    }
   ],
   "source": [
    "floatVal = 2.123\n",
    "print(format(floatVal,'.2f'))\n",
    "# print(round(floatVal,2))"
   ]
  },
  {
   "cell_type": "markdown",
   "metadata": {},
   "source": [
    "Q7. Write the Python program to format a number with a percentage?"
   ]
  },
  {
   "cell_type": "code",
   "execution_count": 84,
   "metadata": {},
   "outputs": [
    {
     "name": "stdout",
     "output_type": "stream",
     "text": [
      "212.30%\n"
     ]
    }
   ],
   "source": [
    "floatVal = 2.123\n",
    "print(format(floatVal,'.2%'))"
   ]
  },
  {
   "cell_type": "markdown",
   "metadata": {},
   "source": [
    "Q8. Write the Python program to count occurrences of a substring in a\n",
    "String?"
   ]
  },
  {
   "cell_type": "code",
   "execution_count": 90,
   "metadata": {},
   "outputs": [
    {
     "name": "stdout",
     "output_type": "stream",
     "text": [
      " occurance of is in String : this is testing string is : 2\n"
     ]
    }
   ],
   "source": [
    "testStr = 'this is testing string'\n",
    "findStr = 'is'\n",
    "print(' occurance of '+findStr+' in String : '+testStr+' is : '+ str(testStr.find('is')))\n"
   ]
  },
  {
   "cell_type": "markdown",
   "metadata": {},
   "source": [
    "Q9. Write the Python program to count repeated characters in a string.\n",
    "\n",
    "    Sample string: ' thequickbrownjumpsoverthelazydog '\n",
    "    \n",
    "    Expected output:\n",
    "    o 3\n",
    "    e 3\n",
    "    u 2\n",
    "    h 2\n",
    "    r 2\n",
    "    t 2"
   ]
  },
  {
   "cell_type": "code",
   "execution_count": 94,
   "metadata": {},
   "outputs": [
    {
     "name": "stdout",
     "output_type": "stream",
     "text": [
      "e 2\n",
      "q 3\n",
      "u 4\n",
      "i 5\n",
      "c 6\n",
      "k 7\n",
      "b 8\n",
      "r 9\n",
      "o 10\n",
      "w 11\n",
      "n 12\n",
      "j 13\n",
      "m 15\n",
      "p 16\n",
      "s 17\n",
      "v 19\n",
      "l 25\n",
      "a 26\n",
      "z 27\n",
      "y 28\n",
      "d 29\n",
      "g 31\n"
     ]
    }
   ],
   "source": [
    "testStr = 'thequickbrownjumpsoverthelazydog'\n",
    "printedChr = ''\n",
    "for i in testStr :\n",
    "    if testStr.find(i) > 1 :\n",
    "        if printedChr.find(i) == -1 :\n",
    "            print(i+' '+str(testStr.find(i)))\n",
    "            printedChr += i"
   ]
  },
  {
   "cell_type": "markdown",
   "metadata": {},
   "source": [
    "Q10. Write the Python program to print the square and cube symbol in\n",
    "the area of a rectangle and volume of a cylinder?\n",
    "\n",
    "    Sample outputThe area of the rectangle is 1256.66cm2\n",
    "    The volume of the cylinder is 1254.725cm3\n"
   ]
  },
  {
   "cell_type": "code",
   "execution_count": 114,
   "metadata": {},
   "outputs": [
    {
     "name": "stdout",
     "output_type": "stream",
     "text": [
      "The area of the rectangle is 1256.66cm²\n",
      "The volume of the cylinder is 1254.725cm³\n"
     ]
    }
   ],
   "source": [
    "rectArea = 1256.66\n",
    "cylVol = 1254.725\n",
    "print(\"The area of the rectangle is {0:.{1}f}cm\\u00b2\".format(rectArea, 2))\n",
    "print(\"The volume of the cylinder is {0:.{1}f}cm\\u00b3\".format(cylVol, 3))"
   ]
  },
  {
   "cell_type": "markdown",
   "metadata": {},
   "source": [
    "Q11. Write the Python program to check if a string contains all letters of\n",
    "the alphabet?"
   ]
  },
  {
   "cell_type": "code",
   "execution_count": 128,
   "metadata": {},
   "outputs": [
    {
     "name": "stdout",
     "output_type": "stream",
     "text": [
      "26\n",
      "True\n",
      "False\n"
     ]
    }
   ],
   "source": [
    "import string\n",
    "alphabet = set(string.ascii_lowercase)\n",
    "print(len(alphabet))\n",
    "input_string = 'abcdefghijklmnopqrstuvwxyz'\n",
    "print(len((alphabet) - set(input_string.lower()))==0)\n",
    "input_string = 'abcdefghijklmnopqrstuvwxy'\n",
    "print(len((alphabet)-set(input_string.lower()))==0)"
   ]
  },
  {
   "cell_type": "markdown",
   "metadata": {},
   "source": [
    "Q12. Write the Python program to find the second most repeated word\n",
    "in a given string?"
   ]
  },
  {
   "cell_type": "code",
   "execution_count": 110,
   "metadata": {},
   "outputs": [
    {
     "name": "stdout",
     "output_type": "stream",
     "text": [
      "31\n",
      "second most repeated word : 29\n"
     ]
    }
   ],
   "source": [
    "testStr = 'thequickbrownjumpsoverthelazydog'\n",
    "printedChr = ''\n",
    "lastCnt = 0\n",
    "cnt = 0\n",
    "secLastCnt = 0\n",
    "for i in testStr :\n",
    "    if testStr.find(i) > 1 :\n",
    "        Cnt = testStr.find(i)\n",
    "        if printedChr.find(i) == -1 :\n",
    "           if lastCnt == 0 :            \n",
    "            lastCnt = testStr.find(i)            \n",
    "           else :\n",
    "                if lastCnt < Cnt :\n",
    "                    secLastCnt = lastCnt\n",
    "                    lastCnt = Cnt\n",
    "                    \n",
    "           printedChr += i\n",
    "print(lastCnt)\n",
    "print('second most repeated word : '+str(secLastCnt))"
   ]
  },
  {
   "cell_type": "markdown",
   "metadata": {},
   "source": [
    "Q13. Write the Python program to find the minimum window in the given\n",
    "string, which will contains all the characters of another given\n",
    "strings?\n",
    "\n",
    "    Example 1\n",
    "    Input : string1 = \" PRWSOERIUSFK \"\n",
    "    string2 = \" OSU \"\n",
    "    Output: Minimum window is \"OERIUS\""
   ]
  },
  {
   "cell_type": "code",
   "execution_count": 184,
   "metadata": {},
   "outputs": [
    {
     "name": "stdout",
     "output_type": "stream",
     "text": [
      "et windows\n",
      "et windows\n",
      "et windows\n",
      "et windows\n",
      "et windows\n",
      "et windows\n",
      "et windows\n",
      "et windows\n",
      "et windows\n",
      "et windows\n",
      "et windows\n"
     ]
    }
   ],
   "source": [
    "testStr = 'this is tet windows'\n",
    "search = 'es'\n",
    "set1 = set(testStr)\n",
    "first  = ''\n",
    "for i in range(len(testStr)+1):\n",
    "    last = first\n",
    "    first = testStr[i:]\n",
    "    sec = ''\n",
    "#     print((set(search)-set(last)))\n",
    "    if(len(set(search) - set(first)) != 0 and len(set(search)-set(last))==0):\n",
    "#         print('---'+last)\n",
    "        for j in range(len(last)+1):\n",
    "            last1 = last\n",
    "            sec = last[:-j]\n",
    "#             print(sec)\n",
    "            if(len(set(search) - set(sec)) != 0 and len(set(search)-set(last1))==0):\n",
    "#                 last1 = sec\n",
    "                print(last1)\n",
    "                \n",
    "            \n",
    "    \n",
    "# print(set1)"
   ]
  },
  {
   "cell_type": "markdown",
   "metadata": {},
   "source": [
    "Q14. Write the Python program to count number of substrings from a\n",
    "given string of lowercase alphabets with exactly k distinct (given)\n",
    "characters?\n",
    "\n",
    "    Input a string (lowercase alphabets): wolf\n",
    "    Input k: 4\n",
    "    Number of substrings with exactly 4 distinct characters: 1"
   ]
  },
  {
   "cell_type": "code",
   "execution_count": null,
   "metadata": {},
   "outputs": [],
   "source": []
  },
  {
   "cell_type": "markdown",
   "metadata": {},
   "source": [
    "Q15. Write the Python program to count number of substrings with same\n",
    "first and last characters of the given string?\n",
    "\n",
    "    Input a string: abcd\n",
    "    4\n"
   ]
  },
  {
   "cell_type": "code",
   "execution_count": 158,
   "metadata": {},
   "outputs": [
    {
     "name": "stdin",
     "output_type": "stream",
     "text": [
      " abacd\n"
     ]
    },
    {
     "name": "stdout",
     "output_type": "stream",
     "text": [
      "abacd\n",
      "6\n"
     ]
    }
   ],
   "source": [
    "testStr = input()\n",
    "print(testStr)\n",
    "result = 0 \n",
    "n = len(testStr) \n",
    "for i in range(n):\n",
    "#     print('outer loop : '+str(i))\n",
    "    for j in range(i,n+1):\n",
    "            s1 = testStr[i: j]\n",
    "            if len(s1) == 0 :\n",
    "                continue\n",
    "#             print(len(s1))\n",
    "#             print(s1)\n",
    "            if (s1[0] == s1[len(s1) - 1]) :\n",
    "                result+=1\n",
    "#                 print(s1)\n",
    "    \n",
    "     \n",
    "  \n",
    "print(result) \n",
    "  \n"
   ]
  },
  {
   "cell_type": "markdown",
   "metadata": {},
   "source": [
    "## Great Job!"
   ]
  }
 ],
 "metadata": {
  "kernelspec": {
   "display_name": "Python 3",
   "language": "python",
   "name": "python3"
  },
  "language_info": {
   "codemirror_mode": {
    "name": "ipython",
    "version": 3
   },
   "file_extension": ".py",
   "mimetype": "text/x-python",
   "name": "python",
   "nbconvert_exporter": "python",
   "pygments_lexer": "ipython3",
   "version": "3.7.4"
  }
 },
 "nbformat": 4,
 "nbformat_minor": 4
}
