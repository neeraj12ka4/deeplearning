{
 "cells": [
  {
   "cell_type": "markdown",
   "metadata": {},
   "source": [
    "## Problem Statement"
   ]
  },
  {
   "cell_type": "markdown",
   "metadata": {},
   "source": [
    "Q.1 Write a Python Program to implement your own myreduce() function which works exactly like\n",
    "Python's built-in function reduce()\n"
   ]
  },
  {
   "cell_type": "code",
   "execution_count": 23,
   "metadata": {},
   "outputs": [
    {
     "data": {
      "text/plain": [
       "113"
      ]
     },
     "execution_count": 23,
     "metadata": {},
     "output_type": "execute_result"
    }
   ],
   "source": [
    "#myReduce function implementation\n",
    "def myReduce(function, lst):\n",
    "    l = 0\n",
    "    for i in lst:\n",
    "        l = function(i,l)\n",
    "    return l\n",
    "#List of integer numbers\n",
    "lst =[47,11,42,13]\n",
    "#myReduce \n",
    "myReduce(lambda x,y: x+y,lst)"
   ]
  },
  {
   "cell_type": "markdown",
   "metadata": {},
   "source": [
    "Q.2 Write a Python program to implement your own myfilter() function which works exactly like\n",
    "Python's built-in function filter()"
   ]
  },
  {
   "cell_type": "code",
   "execution_count": 29,
   "metadata": {},
   "outputs": [
    {
     "data": {
      "text/plain": [
       "[42, 12, 16]"
      ]
     },
     "execution_count": 29,
     "metadata": {},
     "output_type": "execute_result"
    }
   ],
   "source": [
    "#Custom implementation of python filter method\n",
    "def myFilter(function, lst):\n",
    "    tempLst = []\n",
    "    for i in lst:\n",
    "        if function(i) :\n",
    "                tempLst.append(i)\n",
    "    return tempLst          \n",
    "    \n",
    "#List of integer\n",
    "lst =[47,11,42,13,12,16]\n",
    "#filter the even numbers\n",
    "fnalLst = myFilter(lambda x: x%2==0,lst)\n",
    "\n",
    "fnalLst"
   ]
  },
  {
   "cell_type": "markdown",
   "metadata": {},
   "source": [
    "Q.3 Implement List comprehensions to produce the following lists.\n",
    "   Write List comprehensions to produce the following Lists\n",
    "   \n",
    "    ['A', 'C', 'A', 'D', 'G', 'I', ’L’, ‘ D’]\n",
    "   \n",
    "    ['x', 'xx', 'xxx', 'xxxx', 'y', 'yy', 'yyy', 'yyyy', 'z', 'zz', 'zzz', 'zzzz']\n",
    "\n",
    "    ['x', 'y', 'z', 'xx', 'yy', 'zz', 'xx', 'yy', 'zz', 'xxxx', 'yyyy', 'zzzz']\n",
    "    \n",
    "    [[2], [3], [4], [3], [4], [5], [4], [5], [6]]\n",
    "\n",
    "    [[2, 3, 4, 5], [3, 4, 5, 6], [4, 5, 6, 7], [5, 6, 7, 8]]\n",
    "\n",
    "    [(1, 1), (2, 1), (3, 1), (1, 2), (2, 2), (3, 2), (1, 3), (2, 3), (3, 3)]"
   ]
  },
  {
   "cell_type": "code",
   "execution_count": 37,
   "metadata": {},
   "outputs": [
    {
     "name": "stdout",
     "output_type": "stream",
     "text": [
      "['A', 'C', 'A', 'D', 'G', 'I', 'L', 'D']\n",
      "['x', 'xx', 'xxx', 'xxxx', 'y', 'yy', 'yyy', 'yyyy', 'z', 'zz', 'zzz', 'zzzz']\n",
      "['x', 'y', 'z', 'xx', 'yy', 'zz', 'xxx', 'yyy', 'zzz', 'xxxx', 'yyyy', 'zzzz']\n",
      "[[2], [3], [4], [3], [4], [5], [4], [5], [6]]\n",
      "[[2, 3, 4, 5], [3, 4, 5, 6], [4, 5, 6, 7], [5, 6, 7, 8]]\n",
      "[(1, 1), (2, 1), (3, 1), (1, 2), (2, 2), (3, 2), (1, 3), (2, 3), (3, 3)]\n"
     ]
    }
   ],
   "source": [
    "#List comprehension to produce word list\n",
    "randomWord = \"ACADGILD\"\n",
    "a = [ a for a in randomWord ]\n",
    "print (a)\n",
    "\n",
    "#List comprehension to produce ['x', 'xx', 'xxx', 'xxxx', 'y', 'yy', 'yyy', 'yyyy', 'z', 'zz', 'zzz', 'zzzz']\n",
    "#from a list\n",
    "input_list = ['x','y','z']\n",
    "a = [ a*num for a in input_list for num in range(1,5)  ]\n",
    "print(a)\n",
    "\n",
    "#List comprehension to produce ['x', 'y', 'z', 'xx', 'yy', 'zz', 'xx', 'yy', 'zz', 'xxxx', 'yyyy', 'zzzz']\n",
    "#from a listinput_list = ['x','y','z']\n",
    "a = [ a*num for num in range(1,5) for a in input_list  ]\n",
    "print(a)\n",
    "\n",
    "#List comprehension to produce [[2], [3], [4], [3], [4], [5], [4], [5], [6]]\n",
    "#from a list = [2,3,4]\n",
    "input_list = [2,3,4]\n",
    "a = [ [a+num] for a in input_list for num in range(0,3)]\n",
    "print(a)\n",
    "\n",
    "#List comprehension to produce [[2, 3, 4, 5], [3, 4, 5, 6], [4, 5, 6, 7], [5, 6, 7, 8]]\n",
    "#from a list = [2,3,4]\n",
    "input_list = [2,3,4,5]\n",
    "result = [ [item+num for item in input_list] for num in range(0,4)  ]\n",
    "print(result)\n",
    "\n",
    "#List comprehension to produce [(1, 1), (2, 1), (3, 1), (1, 2), (2, 2), (3, 2), (1, 3), (2, 3), (3, 3)]\n",
    "#from a list = [1,2,3]\n",
    "input_list=[1,2,3]\n",
    "result = [ (b,a) for a in input_list for b in input_list]\n",
    "print(result)"
   ]
  },
  {
   "cell_type": "markdown",
   "metadata": {},
   "source": [
    "Q.4 Implement a function longestWord() that takes a list of words and returns the longest one."
   ]
  },
  {
   "cell_type": "code",
   "execution_count": 47,
   "metadata": {},
   "outputs": [
    {
     "name": "stdout",
     "output_type": "stream",
     "text": [
      "['neeraj', '123456']\n"
     ]
    }
   ],
   "source": [
    "def longestWord(wordLst):\n",
    "    maxLen = max([len(i) for i in wordLst])\n",
    "    return list(filter(lambda x: len(x) == maxLen, wordLst))\n",
    "#     return word\n",
    "#List of  words\n",
    "wordLst = ['my','Name','is','neeraj','123456']\n",
    "print(longestWord(wordLst))"
   ]
  },
  {
   "cell_type": "markdown",
   "metadata": {},
   "source": [
    "Q.5 Write a Python Program(with class concepts) to find the area of the triangle using the below\n",
    "formula.\n",
    "\n",
    "area = (s*(s-a)*(s-b)*(s-c)) ** 0.5\n",
    "\n",
    "Function to take the length of the sides of triangle from user should be defined in the parent\n",
    "class and function to calculate the area should be defined in subclass."
   ]
  },
  {
   "cell_type": "code",
   "execution_count": 69,
   "metadata": {},
   "outputs": [
    {
     "name": "stdout",
     "output_type": "stream",
     "text": [
      "<__main__.Traingle object at 0x000001DFDCA67BC8>\n",
      "<class '__main__.Traingle'>\n",
      "3024.0\n"
     ]
    }
   ],
   "source": [
    "class Shape:\n",
    "    def __init__(self, a, b, c):\n",
    "        self.a = a\n",
    "        self.b = b\n",
    "        self.c = c\n",
    "    \n",
    "#     def calculateArea(self):\n",
    "#         print(\"abstract method\")\n",
    "   \n",
    "class Traingle(Shape):\n",
    "    def __init__(self,  *args, **kwargs):\n",
    "        super(Traingle,self).__init__(*args, **kwargs)\n",
    "        \n",
    "    def calculateArea(self):\n",
    "        s = self.a+self.b+self.c\n",
    "        return (s* (s-self.a)*(s-self.b)*(s-self.c)) * 0.5\n",
    "        print(area)\n",
    "        \n",
    "TriObj = Traingle(3,4,5)\n",
    "# print(TriObj)\n",
    "# print(type(TriObj))\n",
    "print(TriObj.calculateArea())\n",
    "# print(isinstance(charlie, object))"
   ]
  },
  {
   "cell_type": "markdown",
   "metadata": {},
   "source": [
    "Q.6 Write a function filter_long_words() that takes a list of words and an integer n and returns the list\n",
    "of words that are longer than n."
   ]
  },
  {
   "cell_type": "code",
   "execution_count": 64,
   "metadata": {},
   "outputs": [
    {
     "name": "stdout",
     "output_type": "stream",
     "text": [
      "['neeraj', '123456']\n"
     ]
    }
   ],
   "source": [
    "def longestWord(wordLst, n):\n",
    "    maxLen = n #max([len(i) for i in wordLst])\n",
    "    return list(filter(lambda x: len(x) > maxLen, wordLst))\n",
    "#     return word\n",
    "#List of  words\n",
    "wordLst = ['my','Name','is','neeraj','123456']\n",
    "print(longestWord(wordLst, 5))"
   ]
  },
  {
   "cell_type": "markdown",
   "metadata": {},
   "source": [
    "Q.7 Write a Python program using function concept that maps list of words into a list of integers\n",
    "representing the lengths of the corresponding words.\n",
    "    \n",
    "    Hint: If a list [ ab,cde,erty] is passed on to the python function output should come as [2,3,4]\n",
    "    Here 2,3 and 4 are the lengths of the words in the list."
   ]
  },
  {
   "cell_type": "code",
   "execution_count": 66,
   "metadata": {},
   "outputs": [
    {
     "data": {
      "text/plain": [
       "[2, 4, 2, 6, 6]"
      ]
     },
     "execution_count": 66,
     "metadata": {},
     "output_type": "execute_result"
    }
   ],
   "source": [
    "#List of  words\n",
    "wordLst = ['my','Name','is','neeraj','123456']\n",
    "#Map expression to extract the length of words\n",
    "list(map(lambda x: len(x), wordLst))"
   ]
  },
  {
   "cell_type": "markdown",
   "metadata": {},
   "source": [
    "Q.8 Write a Python function which takes a character (i.e. a string of length 1) and returns True if it is\n",
    "a vowel, False otherwise."
   ]
  },
  {
   "cell_type": "code",
   "execution_count": 68,
   "metadata": {},
   "outputs": [
    {
     "data": {
      "text/plain": [
       "True"
      ]
     },
     "execution_count": 68,
     "metadata": {},
     "output_type": "execute_result"
    }
   ],
   "source": [
    "#method return true or false based on if the letter is Vowel or not\n",
    "def checkVowel(letter):\n",
    "    vowel={'A', 'E', 'I', 'O', 'U'}\n",
    "    return letter in vowel\n",
    "#call method\n",
    "checkVowel('A')"
   ]
  },
  {
   "cell_type": "markdown",
   "metadata": {},
   "source": [
    "## Great job!"
   ]
  }
 ],
 "metadata": {
  "kernelspec": {
   "display_name": "Python 3",
   "language": "python",
   "name": "python3"
  },
  "language_info": {
   "codemirror_mode": {
    "name": "ipython",
    "version": 3
   },
   "file_extension": ".py",
   "mimetype": "text/x-python",
   "name": "python",
   "nbconvert_exporter": "python",
   "pygments_lexer": "ipython3",
   "version": "3.7.4"
  }
 },
 "nbformat": 4,
 "nbformat_minor": 4
}
